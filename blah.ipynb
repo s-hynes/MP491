{
 "cells": [
  {
   "cell_type": "code",
   "execution_count": null,
   "metadata": {},
   "outputs": [],
   "source": [
    "from quiver import eigen, direction_field\n",
    "\n",
    "direction_field(1,1,4,-2, xmin=-100, xmax=100, ymin=-100, ymax=100)\n",
    "eigen( [[1,1] , [4,-2]], print_values=True)"
   ]
  },
  {
   "cell_type": "code",
   "execution_count": null,
   "metadata": {},
   "outputs": [],
   "source": [
    "# Example 2 in Lecture 6\n",
    "\n",
    "from quiver import eigen, direction_field\n",
    "\n",
    "direction_field(3,-4,1,-1, xmin=-100, xmax=100, ymin=-100, ymax=100, num_arrows=15)\n",
    "eigen( [[3,-4] , [1,-1]], print_values=True)"
   ]
  },
  {
   "cell_type": "code",
   "execution_count": 4,
   "metadata": {},
   "outputs": [],
   "source": [
    "from scipy.optimize import fsolve, fixed_point, root, brentq"
   ]
  },
  {
   "cell_type": "code",
   "execution_count": 9,
   "metadata": {},
   "outputs": [
    {
     "name": "stdout",
     "output_type": "stream",
     "text": [
      "[-2.  2.]\n"
     ]
    }
   ],
   "source": [
    "f = lambda x: x**2 - 4\n",
    "\n",
    "print(fsolve(f, [-1000, 1000]))"
   ]
  },
  {
   "cell_type": "code",
   "execution_count": 15,
   "metadata": {},
   "outputs": [
    {
     "data": {
      "text/plain": [
       "array([-2.,  2.])"
      ]
     },
     "execution_count": 15,
     "metadata": {},
     "output_type": "execute_result"
    }
   ],
   "source": [
    "g = lambda x: x**2 - 4\n",
    "\n",
    "root(g, [-5000, 5000]).x"
   ]
  }
 ],
 "metadata": {
  "kernelspec": {
   "display_name": "Python 3",
   "language": "python",
   "name": "python3"
  },
  "language_info": {
   "codemirror_mode": {
    "name": "ipython",
    "version": 3
   },
   "file_extension": ".py",
   "mimetype": "text/x-python",
   "name": "python",
   "nbconvert_exporter": "python",
   "pygments_lexer": "ipython3",
   "version": "3.12.3"
  }
 },
 "nbformat": 4,
 "nbformat_minor": 2
}
